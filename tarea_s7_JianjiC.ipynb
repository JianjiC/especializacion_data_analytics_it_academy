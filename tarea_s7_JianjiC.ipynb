{
 "cells": [
  {
   "cell_type": "markdown",
   "id": "ff75040b",
   "metadata": {},
   "source": [
    "# Nivel 1"
   ]
  },
  {
   "cell_type": "markdown",
   "id": "aa28f918",
   "metadata": {},
   "source": [
    "## 1. Calculadora de l'índex de massa corporal"
   ]
  },
  {
   "cell_type": "code",
   "execution_count": 56,
   "id": "685c8a10",
   "metadata": {},
   "outputs": [
    {
     "name": "stdout",
     "output_type": "stream",
     "text": [
      "Tu altura es 1.68 metros.\n",
      "Tu peso es 53.0 kilogramos.\n",
      "Tu IMC es 18.78. ¡Génial! Tienes el peso normal.\n"
     ]
    }
   ],
   "source": [
    "altura = input(\"Introduce tu altura en metros; no uses coma sino punto para decimales.\")\n",
    "peso = input(\"Introduce tu peso en kilogramos; no uses coma sino punto para decimales.\")\n",
    "\n",
    "# validar si el formato del valor introducido es numérico y razonable\n",
    "# printar la altura y el peso cuando tengan valores correctos\n",
    "try:\n",
    "    altura = float(altura)\n",
    "    if float(altura) <= 0:\n",
    "        print(\"Una altura negativa or zero no es posible para una persona! Por favor, introduce el valor correcto.\")\n",
    "    elif float(altura) >= 3:\n",
    "        print(\"Confirma el valor por favor. Debe ser en metros, no en centimetros.\")\n",
    "    else:\n",
    "        print(\"Tu altura es\", altura, \"metros.\")\n",
    "except ValueError:\n",
    "    print(\"¡Error de altura: el valor no es un número!\")\n",
    "try:\n",
    "    peso = float(peso)\n",
    "    if float(peso) <= 0:\n",
    "        print(\"Un peso negativo o zero no es posible para una persona! Por favor, introduce el valor correcto.\")\n",
    "    elif float(peso) >= 500:\n",
    "        print(\"Confirma el valor por favor. Debe ser en kilogramos, no en gramos.\")\n",
    "    else:\n",
    "        print(\"Tu peso es\", peso, \"kilogramos.\")\n",
    "except ValueError:\n",
    "    print(\"¡Error de peso: el valor no es un número!\")\n",
    "\n",
    "# cuando los valores de altura y peso sean correctos, calcular el IMC y printarlo con información de atención\n",
    "try:\n",
    "    altura = float(altura)\n",
    "    peso = float(peso)\n",
    "    if float(altura) > 0 and float(altura) < 3 and float(peso) > 0 and float(peso) < 500:\n",
    "        IMC = float(peso) / (float(altura) * float(altura))\n",
    "        if IMC < 18.5:\n",
    "            print(\"Tu IMC es \" + str(round(IMC, 2)) + \". Es posible que tengas el bajo peso.\")\n",
    "        elif IMC < 25:\n",
    "            print(\"Tu IMC es \" + str(round(IMC, 2)) + \". ¡Génial! Tienes el peso normal.\")\n",
    "        elif IMC < 30:\n",
    "            print(\"Tu IMC es \" + str(round(IMC, 2)) + \". Es posible que tengas el sobrepeso.\")\n",
    "        else:\n",
    "            print(\"Tu IMC es \" + str(round(IMC, 2)) + \". Es posible que tengas obesidad.\")\n",
    "    else:\n",
    "        print(\"Error de IMC.\")\n",
    "except ValueError:\n",
    "    print(\"Error de IMC.\")"
   ]
  },
  {
   "cell_type": "markdown",
   "id": "5c9fb998",
   "metadata": {},
   "source": [
    "## 2. Convertidor de temperatures"
   ]
  },
  {
   "cell_type": "code",
   "execution_count": 7,
   "id": "748ab88f",
   "metadata": {},
   "outputs": [
    {
     "name": "stdout",
     "output_type": "stream",
     "text": [
      "Bienvenido/a al convertidor de temperaturas!\n",
      "Tipos apoyados: Celsius (°C), Fahrenheit (°F), y Kelvin (K).\n",
      "\n",
      "Tienes la temperatura en el tipo: °C\n",
      "La temperatura es: 78.0\n",
      "La temperatura en otros dos tipos: {'°F': 172.4, 'K': 351.1}\n"
     ]
    }
   ],
   "source": [
    "import numbers\n",
    "\n",
    "print(\"Bienvenido/a al convertidor de temperaturas!\")\n",
    "print(\"Tipos apoyados: Celsius (°C), Fahrenheit (°F), y Kelvin (K).\\n\")\n",
    "\n",
    "temperatura = {}\n",
    "tipo_tempe = input(\"Qué tipo de temperatura eliges? Introduce C/c para Celsius, F/f para Fahrenheit, y K/k para Kelvin.\")\n",
    "num_tempe = input(\"Introduce el número de temperatura.\")\n",
    "\n",
    "# validar si el formato de la temperatura introducida es correcto\n",
    "# printar la temperatura cuando tenga valores correctos\n",
    "if tipo_tempe not in [\"C\", \"c\", \"F\", \"f\", \"K\", \"k\"]:\n",
    "    print(\"¡Error de tipo de temperatura! Introduce uno entre C/F/K.\")\n",
    "else:\n",
    "    if tipo_tempe in  [\"C\", \"c\"]:\n",
    "        tipo_tempe = \"°C\"\n",
    "    elif tipo_tempe in  [\"F\", \"f\"]:\n",
    "        tipo_tempe = \"°F\"\n",
    "    else:\n",
    "        tipo_tempe = \"K\"\n",
    "    print(\"Tienes la temperatura en el tipo:\", tipo_tempe)\n",
    "try:\n",
    "    num_tempe = float(num_tempe)\n",
    "    print(\"La temperatura es:\", round(num_tempe, 1))\n",
    "except ValueError:\n",
    "    print(\"¡Error de valor temperatura! Introduce un número.\")\n",
    "\n",
    "# cuando los valores sean correctos, covertir la temperatura a otros dos tipos y printarlos\n",
    "try:\n",
    "    num_tempe = float(num_tempe)\n",
    "    if tipo_tempe == \"°C\":\n",
    "        temperatura.update({\"°F\": round((num_tempe * 1.8 + 32), 1)})\n",
    "        temperatura.update({\"K\": round((num_tempe + 273.15), 1)})\n",
    "        print(\"La temperatura en otros dos tipos:\", temperatura)\n",
    "    elif tipo_tempe == \"°F\":\n",
    "        temperatura.update({\"°C\": round(((num_tempe - 32) * 5/9), 1)})\n",
    "        temperatura.update({\"K\": round(((num_tempe - 32) * 5/9 + 273.15), 1)})\n",
    "        print(\"La temperatura en otros dos tipos:\", temperatura)\n",
    "    elif tipo_tempe == \"K\":\n",
    "        temperatura.update({\"°C\": round((num_tempe - 273.15), 1)})\n",
    "        temperatura.update({\"°F\": round(((num_tempe - 273.15) * 9/5 + 32), 1)})\n",
    "        print(\"La temperatura en otros dos tipos:\", temperatura)\n",
    "    else:\n",
    "        print(\"¡Error de presentar la temperatura en tipos diversos! ¡Comprueba el tipo de temperatura!\")\n",
    "except ValueError:\n",
    "    print(\"¡Error de presentar la temperatura en tipos diversos! ¡Comprueba el tipo o el valor de temperatura!\")"
   ]
  },
  {
   "cell_type": "markdown",
   "id": "fa664a8c",
   "metadata": {},
   "source": [
    "## 3. Comptador de paraules d'un text"
   ]
  },
  {
   "cell_type": "code",
   "execution_count": 2,
   "id": "5aa4650c",
   "metadata": {},
   "outputs": [
    {
     "name": "stdout",
     "output_type": "stream",
     "text": [
      "Introduciste el siguiente texto:\n",
      "Tu me /quieres, tu yo56 yo/). Muy bien!\n",
      "\n",
      "Las palabras y sus ocurrencias: {'tu': 2, 'me': 1, 'quieres': 1, 'yo56': 1, 'yo': 1, 'muy': 1, 'bien': 1}\n",
      "\n",
      "Medida de largo de palabras: 3.4\n"
     ]
    }
   ],
   "source": [
    "texto = input(\"Introduce un texto de lo que quieras.\")\n",
    "\n",
    "palabra_cantidad = {}\n",
    "palabra_largo = {}\n",
    "\n",
    "for palabra in texto.split():\n",
    "    # aquí para quitar todos los simbolos como (), !, . etc. de las letras\n",
    "    palabra = \"\".join(letra for letra in palabra if letra.isalpha() or letra.isdigit())\n",
    "    # poner todas las palabras con letras minúscula\n",
    "    palabra = palabra.lower()\n",
    "    # si aún no existe esta palabra, el valor de .get() es 0 en vez de \"not found\" para poder calcular\n",
    "    palabra_cantidad[palabra] = palabra_cantidad.get(palabra, 0) + 1\n",
    "    palabra_largo.update({palabra: len(palabra)})\n",
    "\n",
    "import numpy as np\n",
    "medida_largo = np.array(list(palabra_largo.values())).mean()\n",
    "\n",
    "print(\"Introduciste el siguiente texto:\\n\" + texto)\n",
    "\n",
    "print(\"\\nLas palabras y sus ocurrencias:\", palabra_cantidad)\n",
    "\n",
    "print(\"\\nMedida de largo de palabras:\", round(medida_largo, 1))\n",
    "\n",
    "\n",
    "#### validar los caracteres especiales\n",
    "#if ounctuation, \"\""
   ]
  },
  {
   "cell_type": "markdown",
   "id": "f5b65996",
   "metadata": {},
   "source": [
    "## 4. Diccionari invers (amb possibilitat de duplicats)"
   ]
  },
  {
   "cell_type": "code",
   "execution_count": 3,
   "id": "7bc1fd01",
   "metadata": {},
   "outputs": [],
   "source": [
    "def reverso_dictionario(dicionario):\n",
    "    reverso_dictionario = {}\n",
    "    \n",
    "    for clave, valor in dicionario.items():\n",
    "        if valor not in reverso_dictionario:\n",
    "            reverso_dictionario[valor] = [clave]           \n",
    "        else:\n",
    "            reverso_dictionario[valor].append(clave)\n",
    "            print('Hay duplicados por el valor \"' + valor + '\". Ahora como una clave tendrá una lista de valores.')\n",
    "    \n",
    "    ## convertir de lista a valor para las listas de valor único\n",
    "    for valor, clave in reverso_dictionario.items():\n",
    "        if len(clave) == 1:\n",
    "            reverso_dictionario[valor] = clave[0]\n",
    "            \n",
    "    return reverso_dictionario"
   ]
  },
  {
   "cell_type": "code",
   "execution_count": 4,
   "id": "dbc06fa4",
   "metadata": {},
   "outputs": [
    {
     "name": "stdout",
     "output_type": "stream",
     "text": [
      "Hay duplicados por el valor \"Juan Sánchez\". Ahora como una clave tendrá una lista de valores.\n",
      "Hay duplicados por el valor \"Juan Sánchez\". Ahora como una clave tendrá una lista de valores.\n",
      "Hay duplicados por el valor \"Anna García\". Ahora como una clave tendrá una lista de valores.\n"
     ]
    },
    {
     "data": {
      "text/plain": [
       "{'Juan Sánchez': ['id1', 'id3', 'id4'],\n",
       " 'Anna Martínez': 'id2',\n",
       " 'Anna García': ['id5', 'id6']}"
      ]
     },
     "execution_count": 4,
     "metadata": {},
     "output_type": "execute_result"
    }
   ],
   "source": [
    "# un ejemplo para aplicar la función.\n",
    "dic1 = {\"id1\": \"Juan Sánchez\", \"id2\": \"Anna Martínez\", \"id3\": \"Juan Sánchez\",\n",
    "        \"id4\": \"Juan Sánchez\", \"id5\": \"Anna García\", \"id6\": \"Anna García\"}\n",
    "reverso_dictionario(dic1)"
   ]
  },
  {
   "cell_type": "markdown",
   "id": "a152cbd0",
   "metadata": {},
   "source": [
    "# Nivel 2"
   ]
  },
  {
   "cell_type": "markdown",
   "id": "63e7ac79",
   "metadata": {},
   "source": [
    "## 1. Comptador i endreçador de paraules d'un text"
   ]
  },
  {
   "cell_type": "code",
   "execution_count": 8,
   "id": "e37f2eea",
   "metadata": {},
   "outputs": [
    {
     "name": "stdout",
     "output_type": "stream",
     "text": [
      "{'a': {'a': 3,\n",
      "       'agua': 1,\n",
      "       'al': 2,\n",
      "       'alba': 4,\n",
      "       'alcobas': 1,\n",
      "       'alimenta': 1,\n",
      "       'alma': 1,\n",
      "       'amarga': 1,\n",
      "       'azucena': 1},\n",
      " 'b': {'baco': 1,\n",
      "       'banquete': 1,\n",
      "       'bebe': 1,\n",
      "       'blanca': 3,\n",
      "       'boca': 1,\n",
      "       'bosques': 1,\n",
      "       'buen': 1},\n",
      " 'c': {'cabañas': 1,\n",
      "       'carnes': 2,\n",
      "       'casta': 3,\n",
      "       'cerrada': 1,\n",
      "       'con': 4,\n",
      "       'conservas': 1,\n",
      "       'copas': 1,\n",
      "       'corola': 1,\n",
      "       'corriste': 1,\n",
      "       'cuando': 2,\n",
      "       'cubierto': 1,\n",
      "       'cuerpo': 1,\n",
      "       'cuáles': 1},\n",
      " 'd': {'de': 8, 'dejaste': 1, 'del': 1, 'diga': 1, 'dios': 2, 'duerme': 1},\n",
      " 'e': {'el': 4,\n",
      "       'ellas': 1,\n",
      "       'en': 4,\n",
      "       'engaño': 1,\n",
      "       'enredada': 1,\n",
      "       'entonces': 1,\n",
      "       'escarcha': 1,\n",
      "       'espumas': 1,\n",
      "       'esqueleto': 1,\n",
      "       'estrago': 1},\n",
      " 'f': {'festejando': 1, 'filtrado': 1, 'frutos': 1},\n",
      " 'h': {'habla': 1,\n",
      "       'hacia': 1,\n",
      "       'haya': 1,\n",
      "       'hayas': 1,\n",
      "       'hermana': 1,\n",
      "       'hombre': 1,\n",
      "       'hubiste': 1,\n",
      "       'huye': 1},\n",
      " 'i': {'intacto': 1},\n",
      " 'j': {'jardines': 1},\n",
      " 'l': {'la': 3,\n",
      "       'labios': 1,\n",
      "       'las': 7,\n",
      "       'lo': 2,\n",
      "       'los': 4,\n",
      "       'luna': 1,\n",
      "       'lévate': 1,\n",
      "       'límpiate': 1},\n",
      " 'm': {'mano': 1,\n",
      "       'manos': 1,\n",
      "       'margarita': 1,\n",
      "       'me': 10,\n",
      "       'mi': 1,\n",
      "       'mieles': 1,\n",
      "       'milagros': 1,\n",
      "       'mojada': 1,\n",
      "       'montaña': 1,\n",
      "       'morados': 1},\n",
      " 'n': {'negros': 1, 'ni': 2, 'no': 1, 'nácar': 1, 'nívea': 2},\n",
      " 'p': {'perdone': 2,\n",
      "       'perfume': 1,\n",
      "       'por': 2,\n",
      "       'pretendes': 3,\n",
      "       'preténdeme': 3,\n",
      "       'puesto': 1,\n",
      "       'pájaros': 1,\n",
      "       'pámpanos': 1},\n",
      " 'q': {'que': 6, 'quedó': 1, 'quieres': 6},\n",
      " 'r': {'rayo': 1, 'raíz': 1, 'renueva': 1, 'rocas': 1, 'rojo': 1},\n",
      " 's': {'salitre': 1, 'se': 2, 'sea': 1, 'sean': 1, 'sobre': 2, 'sé': 1},\n",
      " 't': {'te': 3,\n",
      "       'tejidos': 1,\n",
      "       'tenue': 1,\n",
      "       'tierra': 1,\n",
      "       'toca': 1,\n",
      "       'todas': 2,\n",
      "       'todavía': 1,\n",
      "       'tornadas': 1,\n",
      "       'tú': 8},\n",
      " 'u': {'un': 1, 'una': 1},\n",
      " 'v': {'vestido': 1, 'vete': 1, 'vive': 1},\n",
      " 'y': {'y': 5}}\n"
     ]
    }
   ],
   "source": [
    "### leer el txt document\n",
    "with open(\"tu_me_quieres_blanca.txt\", \"r\", encoding = 'UTF-8') as file:\n",
    "    tu_me_quieres_blanca = file.read()\n",
    "\n",
    "### una lista de todas las palabras del txt sin duplicadas\n",
    "lista_palabra = []\n",
    "for palabra in tu_me_quieres_blanca.split():\n",
    "    # aquí para quitar todos los simbolos como (), !, . etc. de las letras\n",
    "    palabra = \"\".join(letra for letra in palabra if letra.isalpha())\n",
    "    # poner todas las palabras con letras minúscula\n",
    "    palabra = palabra.lower()\n",
    "    if palabra != \"\":\n",
    "        lista_palabra.append(palabra)\n",
    "\n",
    "### una lista de todas las letras iniciales de las pablablas, sin duplicadas\n",
    "lista_letra = []\n",
    "for palabra in lista_palabra:\n",
    "    letra = palabra[0]\n",
    "    if letra not in lista_letra:\n",
    "        lista_letra.append(letra)\n",
    "\n",
    "### un diccionario de cada palabra y su ocurrencia\n",
    "palabra_cantidad = {}\n",
    "for palabra in sorted(lista_palabra):\n",
    "    palabra_cantidad[palabra] = palabra_cantidad.get(palabra, 0) + 1\n",
    "    # si aún no existe esta palabra, el valor de .get() es 0 en vez de \"not found\" para poder calcular\n",
    "\n",
    "### un diccionario de cada letra inicial y sub-diccionario de cada palabra y su occurencia\n",
    "letra_palabra_cantidad = {\n",
    "    letra: {palabra: cantidad\n",
    "            for palabra, cantidad in palabra_cantidad.items()\n",
    "            if palabra.startswith(letra)\n",
    "            }\n",
    "    for letra in sorted(lista_letra)\n",
    "    }\n",
    "\n",
    "import pprint as pp\n",
    "pp.pprint(letra_palabra_cantidad)"
   ]
  },
  {
   "cell_type": "markdown",
   "id": "f5769e4b",
   "metadata": {},
   "source": [
    "## 2. Conversió de tipus de dades"
   ]
  },
  {
   "cell_type": "code",
   "execution_count": 11,
   "id": "3b906717",
   "metadata": {},
   "outputs": [],
   "source": [
    "def conversion(lista):\n",
    "    lista_plana = []\n",
    "    \n",
    "    ### de-lista a las sub-listas o sub-tuplas \n",
    "    for elemento in lista:\n",
    "        if isinstance(elemento, (list, tuple)):\n",
    "            for sub_elemento in elemento:\n",
    "                lista_plana.append(sub_elemento)\n",
    "        else:\n",
    "            lista_plana.append(elemento)\n",
    "    \n",
    "    ### La lista de los datos flotables --- numéricos\n",
    "    lista_numerica = [elemento for elemento in lista_plana\n",
    "                      if isinstance(elemento, (float, int))]\n",
    "    \n",
    "    ### La lista de otros datos\n",
    "    lista_otra = [elemento for elemento in lista_plana\n",
    "                      if not isinstance(elemento, (float, int))]\n",
    "\n",
    "    print(f\"La lista de datos flotables:\\n{lista_numerica}\\n\\nLa lista de otros datos:\\n{lista_otra}\")\n",
    "\n",
    "    #tubla_pedida = (lista_numerica, lista_otra)\n",
    "    #return tubla_pedida"
   ]
  },
  {
   "cell_type": "code",
   "execution_count": 12,
   "id": "a3586bf1",
   "metadata": {},
   "outputs": [
    {
     "name": "stdout",
     "output_type": "stream",
     "text": [
      "La lista de datos flotables:\n",
      "[55, 66, 88, 88, 34, 87.80357142857143, 687, 667]\n",
      "\n",
      "La lista de otros datos:\n",
      "['hhg', 'sjfj', 'oi']\n"
     ]
    }
   ],
   "source": [
    "#un ejemplo\n",
    "\n",
    "a = [55, 66, 88, [88, \"hhg\", 34, 89-67/56, ], (\"sjfj\", \"oi\", 687), 667]\n",
    "\n",
    "conversion(a)"
   ]
  },
  {
   "cell_type": "markdown",
   "id": "14426942",
   "metadata": {},
   "source": [
    "# Nivel 3"
   ]
  },
  {
   "cell_type": "markdown",
   "id": "71e4b9e4",
   "metadata": {},
   "source": [
    "## 1. Generador de Contrasenyes"
   ]
  },
  {
   "cell_type": "code",
   "execution_count": 15,
   "id": "606ae8d6",
   "metadata": {},
   "outputs": [],
   "source": [
    "import random ### con numpy.random, solo se podría generar numeros\n",
    "import string\n",
    "import pyperclip\n",
    "\n",
    "def crear_contrasenya(longitud, mayuscula, minuscula, numero, signo):\n",
    "\n",
    "    while True:\n",
    "        ### un string que contiene las 26 letres latinas, los 10 dígitos, y los caracteres especiales\n",
    "        caracteres = string.ascii_letters + string.digits + string.punctuation\n",
    "        ### una contraseña que tiene el longitud pedido\n",
    "        contrasenya = ''.join(random.choice(caracteres) for _ in range(longitud))\n",
    "        \n",
    "        ## si la contraseña creada tiene al menos una letra majúscula o no\n",
    "        if any(c.isupper() for c in contrasenya):\n",
    "            mu = True\n",
    "        else:\n",
    "            mu = False\n",
    "\n",
    "        ## si la contraseña creada tiene al menos una letra minúscula o no\n",
    "        if any(c.islower() for c in contrasenya):\n",
    "            mi = True\n",
    "        else:\n",
    "            mi = False\n",
    "\n",
    "        ## si la contraseña creada tiene al menos un dígito o no\n",
    "        if any(c.isdigit() for c in contrasenya):\n",
    "            nu = True\n",
    "        else:\n",
    "            nu = False\n",
    "\n",
    "        ## si la contraseña creada tiene al menos un caracter especial o no\n",
    "        if any(c in string.punctuation for c in contrasenya):\n",
    "            si = True\n",
    "        else:\n",
    "            si = False\n",
    "        \n",
    "        # Si las condiciones cumplen los requisitos,\n",
    "        # la contraseña es lo que se pide,\n",
    "        # sino continua generar otra contraseña\n",
    "        if mu == mayuscula and mi == minuscula and nu == numero and si == signo:\n",
    "            pyperclip.copy(contrasenya)  ### añadir al clipboard del ordenador\n",
    "            break\n",
    "            \n",
    "    return contrasenya"
   ]
  },
  {
   "cell_type": "code",
   "execution_count": 16,
   "id": "26ac61cf",
   "metadata": {},
   "outputs": [
    {
     "data": {
      "text/plain": [
       "'8scb18398'"
      ]
     },
     "execution_count": 16,
     "metadata": {},
     "output_type": "execute_result"
    }
   ],
   "source": [
    "#un ejemplo\n",
    "crear_contrasenya(9, False, True, True, False)"
   ]
  },
  {
   "cell_type": "markdown",
   "id": "33feeadf",
   "metadata": {},
   "source": [
    "## 2. Processament de dades simple"
   ]
  },
  {
   "cell_type": "code",
   "execution_count": 20,
   "id": "dcd2c746",
   "metadata": {},
   "outputs": [
    {
     "name": "stdout",
     "output_type": "stream",
     "text": [
      "El equipo Figueres tiene más goles: 161 \n",
      "\n",
      "El equipo Vilafranca tiene más goles encajados: 172 \n",
      "\n",
      "Resumen por cada equipo: \n",
      "                 equipo  ganados  empates  perdidos  goles  encajados  puntos\n",
      "6             Girona FC       31        3        13    139         94      96\n",
      "8            Llagostera       29        7        20    159        142      94\n",
      "16             Sabadell       26        7        15    141        121      85\n",
      "2              Cornellà       25        7        22    147        146      82\n",
      "14         RCD Espanyol       23       11        21    131        144      80\n",
      "5              Figueres       23       10        23    161        154      79\n",
      "9       Lleida Esportiu       23        6        23    129        133      75\n",
      "18             Terrassa       20       14        23    147        164      74\n",
      "4          FC Barcelona       22        7        15    125        115      73\n",
      "19           Vilafranca       20       12        25    157        172      72\n",
      "0              Badalona       18       14        16    134        124      68\n",
      "11  Nàstic de Tarragona       20        8        27    130        148      68\n",
      "15        Reus Deportiu       20        8        16    119        111      68\n",
      "7            Granollers       21        4        24    122        117      67\n",
      "12                 Olot       18       10        26    132        144      64\n",
      "17          Sant Andreu       17       11        25    123        134      62\n",
      "10              Manlleu       16        9        18    106        118      57\n",
      "1            Cerdanyola       17        5        28    117        133      56\n",
      "13                 Prat       16        8        21    106        111      56\n",
      "3                Europa       12        5        16     93         93      41\n"
     ]
    }
   ],
   "source": [
    "import pandas as pd\n",
    "\n",
    "historico_partidos = pd.read_csv('historic_partits.txt', delimiter = \"\\t\",\n",
    "                              header = None, names = [\"equipo1\", \"goles\", \"equipo2\"])\n",
    "\n",
    "### separa los goles a los equipos respectivamente\n",
    "### eg. Girona 2-4 Vilafranca ---------  Girona 2 Vilafranca 4\n",
    "historico_partidos[['equipo1_goles','equipo2_goles']] = (\n",
    "    historico_partidos['goles']\n",
    "    .str.split('-', expand = True).\n",
    "    astype(int))\n",
    "\n",
    "### determinar si e lresultado es victoria, empate o perdida\n",
    "historico_partidos[\"equipo1_resultado\"] = [\n",
    "    \"victoria\" if equipo1_goles > equipo2_goles\n",
    "    else \"empate\" if equipo1_goles == equipo2_goles\n",
    "    else \"perdida\"\n",
    "    for equipo1_goles, equipo2_goles\n",
    "    in zip(historico_partidos['equipo1_goles'], historico_partidos['equipo2_goles']) \n",
    "]\n",
    "\n",
    "historico_partidos[\"equipo2_resultado\"] = [\n",
    "    \"victoria\" if equipo1_goles < equipo2_goles\n",
    "    else \"empate\" if equipo1_goles == equipo2_goles\n",
    "    else \"perdida\"\n",
    "    for equipo1_goles, equipo2_goles\n",
    "    in zip(historico_partidos['equipo1_goles'], historico_partidos['equipo2_goles']) \n",
    "]\n",
    "\n",
    "### separar la tabla en dos con nuevos nombres de columnas, para cada lado de los dos equipos en cada partido\n",
    "historico_partidos_1 = (historico_partidos[[\"equipo1\",\n",
    "                                           \"equipo1_resultado\",\n",
    "                                           \"equipo1_goles\",\n",
    "                                           \"equipo2_goles\"]]\n",
    "                        .rename(columns = {\"equipo1\": \"equipo\",\n",
    "                                           \"equipo1_resultado\": \"resultado\",\n",
    "                                           \"equipo1_goles\": \"goles\",\n",
    "                                           \"equipo2_goles\": \"goles_encajados\"\n",
    "                                           }))\n",
    "\n",
    "historico_partidos_2 = (historico_partidos[[\"equipo2\",\n",
    "                                           \"equipo2_resultado\",\n",
    "                                           \"equipo2_goles\",\n",
    "                                           \"equipo1_goles\"]]\n",
    "                        .rename(columns = {\"equipo2\": \"equipo\",\n",
    "                                           \"equipo2_resultado\": \"resultado\",\n",
    "                                           \"equipo2_goles\": \"goles\",\n",
    "                                           \"equipo1_goles\": \"goles_encajados\"\n",
    "                                           }))\n",
    "\n",
    "## concatenar las dos tablas en una\n",
    "historico_partidos_todos = pd.concat([historico_partidos_1, historico_partidos_2])\n",
    "\n",
    "### agrupar por equipo y calcular\n",
    "partidos_catalan = (\n",
    "    historico_partidos_todos\n",
    "    .groupby(\"equipo\", as_index = False)\n",
    "    .agg(ganados = (\"resultado\", lambda resultado: (resultado == \"victoria\").sum()),\n",
    "         empates = (\"resultado\", lambda resultado: (resultado == \"empate\").sum()),\n",
    "         perdidos = (\"resultado\", lambda resultado: (resultado == \"perdida\").sum()),\n",
    "         goles = (\"goles\", \"sum\"),\n",
    "         encajados = (\"goles_encajados\", \"sum\")\n",
    "        )\n",
    ")\n",
    "partidos_catalan[\"puntos\"] = partidos_catalan[\"ganados\"] * 3 + partidos_catalan[\"empates\"] ### Cómo hacerlo junto con el paso anterior?\n",
    "\n",
    "### ordenar las filas por columnas\n",
    "partidos_catalan.sort_values(by = [\"puntos\", \"goles\", \"encajados\"],\n",
    "                             ascending = [False, False, False],\n",
    "                             inplace = True)\n",
    "\n",
    "### identificar el equipo/ los equipos que tiene(n) más goles\n",
    "mas_goles = partidos_catalan.loc[partidos_catalan[\"goles\"].idxmax()][\"goles\"]\n",
    "mas_goles_equipo = partidos_catalan.loc[partidos_catalan[\"goles\"].idxmax()][\"equipo\"]\n",
    "\n",
    "### identificar el equipo/ los equipos que tiene(n) más goles encajados\n",
    "mas_encajados = partidos_catalan.loc[partidos_catalan[\"encajados\"].idxmax()][\"encajados\"]\n",
    "mas_encajados_equipo = partidos_catalan.loc[partidos_catalan[\"encajados\"].idxmax()][\"equipo\"]\n",
    "\n",
    "print(\"El equipo\", mas_goles_equipo, \"tiene más goles:\", mas_goles, \"\\n\")\n",
    "\n",
    "print(\"El equipo\", mas_encajados_equipo, \"tiene más goles encajados:\", mas_encajados, \"\\n\")\n",
    "\n",
    "print(f\"Resumen por cada equipo: \\n{partidos_catalan}\")"
   ]
  }
 ],
 "metadata": {
  "kernelspec": {
   "display_name": "Python 3",
   "language": "python",
   "name": "python3"
  },
  "language_info": {
   "codemirror_mode": {
    "name": "ipython",
    "version": 3
   },
   "file_extension": ".py",
   "mimetype": "text/x-python",
   "name": "python",
   "nbconvert_exporter": "python",
   "pygments_lexer": "ipython3",
   "version": "3.13.0"
  }
 },
 "nbformat": 4,
 "nbformat_minor": 5
}
